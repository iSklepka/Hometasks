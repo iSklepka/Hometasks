{
 "cells": [
  {
   "cell_type": "markdown",
   "metadata": {},
   "source": [
    "# <center> Homework 2 </center>"
   ]
  },
  {
   "cell_type": "code",
   "execution_count": 23,
   "metadata": {
    "ExecuteTime": {
     "end_time": "2023-10-29T05:48:22.225370700Z",
     "start_time": "2023-10-29T05:48:22.187715300Z"
    }
   },
   "outputs": [
    {
     "name": "stdout",
     "output_type": "stream",
     "text": [
      "The autoreload extension is already loaded. To reload it, use:\n",
      "  %reload_ext autoreload\n"
     ]
    }
   ],
   "source": [
    "# autoreload позволяет нам подгружать изменения во внешнем коде\n",
    "# без необходимости перезагружать kernel у ноутбука\n",
    "%load_ext autoreload\n",
    "%autoreload 2"
   ]
  },
  {
   "cell_type": "markdown",
   "metadata": {},
   "source": [
    "## 1) Exceptions\n",
    "В модуле `exceptions` объявите следующие исключения:\n",
    "- LowFuelError\n",
    "- NotEnoughFuel\n",
    "- CargoOverload"
   ]
  },
  {
   "cell_type": "code",
   "execution_count": 24,
   "metadata": {
    "ExecuteTime": {
     "end_time": "2023-10-29T05:48:23.431556300Z",
     "start_time": "2023-10-29T05:48:23.399967900Z"
    }
   },
   "outputs": [],
   "source": [
    "import exceptions"
   ]
  },
  {
   "cell_type": "markdown",
   "metadata": {},
   "source": [
    "## 2) Vehicle \n",
    "\n",
    "<img src=\"https://cs.pikabu.ru/images/big_size_comm/2013-12_4/13874526438897.jpg\" width=300>\n",
    "\n",
    "Доработайте базовый класс `Vehicle`:\n",
    "- добавьте атрибуты `weight`, `started`, `fuel`, `fuel_consumption` со значениями по умолчанию\n",
    "- добавьте инициализатор для установки `weight`, `fuel`, `fuel_consumption`\n",
    "- добавьте метод `start`, который, если ещё не состояние `started`, проверяет, что топлива больше нуля, \n",
    "  и обновляет состояние `started`, иначе выкидывает исключение `exceptions.LowFuelError`\n",
    "- добавьте метод `move`, который проверяет, \n",
    "  что достаточно топлива для преодоления переданной дистанции, \n",
    "  и изменяет количество оставшегося топлива, иначе выкидывает исключение `exceptions.NotEnoughFuel`"
   ]
  },
  {
   "cell_type": "code",
   "execution_count": 32,
   "metadata": {
    "ExecuteTime": {
     "end_time": "2023-10-29T05:57:43.476016100Z",
     "start_time": "2023-10-29T05:57:43.414122500Z"
    }
   },
   "outputs": [
    {
     "name": "stdout",
     "output_type": "stream",
     "text": [
      "2500 False 0 50\n",
      "Статус до =  False\n"
     ]
    },
    {
     "ename": "LowFuelError",
     "evalue": "Топливо на нуле",
     "output_type": "error",
     "traceback": [
      "\u001B[1;31m---------------------------------------------------------------------------\u001B[0m",
      "\u001B[1;31mLowFuelError\u001B[0m                              Traceback (most recent call last)",
      "Cell \u001B[1;32mIn[32], line 32\u001B[0m\n\u001B[0;32m     29\u001B[0m \u001B[38;5;28mprint\u001B[39m(car\u001B[38;5;241m.\u001B[39mweight, car\u001B[38;5;241m.\u001B[39mstarted, car\u001B[38;5;241m.\u001B[39mfuel, car\u001B[38;5;241m.\u001B[39mfuel_consumption)\n\u001B[0;32m     31\u001B[0m \u001B[38;5;28mprint\u001B[39m(\u001B[38;5;124m'\u001B[39m\u001B[38;5;124mСтатус до = \u001B[39m\u001B[38;5;124m'\u001B[39m, car\u001B[38;5;241m.\u001B[39mstarted,)\n\u001B[1;32m---> 32\u001B[0m \u001B[43mcar\u001B[49m\u001B[38;5;241;43m.\u001B[39;49m\u001B[43mstart\u001B[49m\u001B[43m(\u001B[49m\u001B[43m)\u001B[49m\n\u001B[0;32m     33\u001B[0m \u001B[38;5;28mprint\u001B[39m(\u001B[38;5;124m'\u001B[39m\u001B[38;5;124mСтатус после\u001B[39m\u001B[38;5;124m'\u001B[39m, car\u001B[38;5;241m.\u001B[39mstarted)\n\u001B[0;32m     35\u001B[0m \u001B[38;5;28mprint\u001B[39m(\u001B[38;5;124m'\u001B[39m\u001B[38;5;124mТопливо до = \u001B[39m\u001B[38;5;124m'\u001B[39m, car\u001B[38;5;241m.\u001B[39mfuel,)\n",
      "Cell \u001B[1;32mIn[32], line 20\u001B[0m, in \u001B[0;36mVehicle.start\u001B[1;34m(self)\u001B[0m\n\u001B[0;32m     18\u001B[0m    \u001B[38;5;28mself\u001B[39m\u001B[38;5;241m.\u001B[39mstarted \u001B[38;5;241m=\u001B[39m \u001B[38;5;28;01mTrue\u001B[39;00m\n\u001B[0;32m     19\u001B[0m \u001B[38;5;28;01melse\u001B[39;00m:\n\u001B[1;32m---> 20\u001B[0m    \u001B[38;5;28;01mraise\u001B[39;00m exceptions\u001B[38;5;241m.\u001B[39mLowFuelError(\u001B[38;5;124m'\u001B[39m\u001B[38;5;124mТопливо на нуле\u001B[39m\u001B[38;5;124m'\u001B[39m)\n",
      "\u001B[1;31mLowFuelError\u001B[0m: Топливо на нуле"
     ]
    }
   ],
   "source": [
    "from abc import ABC\n",
    "\n",
    "\n",
    "class Vehicle(ABC):\n",
    "   weight = 0\n",
    "   started = False\n",
    "   fuel = 0\n",
    "   fuel_consumption =0\n",
    "\n",
    "   def __init__(self, weight=0, fuel=0, fuel_consumption =0, max_cargo=0):\n",
    "      self.weight = weight\n",
    "      self.fuel = fuel\n",
    "      self.fuel_consumption = fuel_consumption\n",
    "      self.max_cargo = max_cargo\n",
    "\n",
    "   def start(self):\n",
    "      if not self.started:\n",
    "         if self.fuel > 0:\n",
    "            self.started = True\n",
    "         else:\n",
    "            raise exceptions.LowFuelError('Топливо на нуле')\n",
    "\n",
    "   def move(self):\n",
    "      if self.fuel >= self.fuel_consumption:\n",
    "         self.fuel -= self.fuel_consumption\n",
    "      else:\n",
    "         raise exceptions.NotEnoughFuel('Не хватает топлива')\n",
    "\n",
    "car = Vehicle(1700, 0, 50)\n",
    "print(car.weight, car.started, car.fuel, car.fuel_consumption)\n",
    "\n",
    "print('Статус до = ', car.started,)\n",
    "car.start()\n",
    "print('Статус после', car.started)\n",
    "\n",
    "print('Топливо до = ', car.fuel,)\n",
    "car.move()\n",
    "print('Топливо после = ', car.fuel)"
   ]
  },
  {
   "cell_type": "markdown",
   "metadata": {},
   "source": [
    "## 3) Engine \n",
    "\n",
    "<img src=\"https://upload.wikimedia.org/wikipedia/commons/6/6f/National_gas_engine_%28Rankin_Kennedy%2C_Modern_Engines%2C_Vol_II%29.jpg\" width=250>\n",
    "\n",
    "Создайте датакласс `Engine`, добавьте атрибуты `volume` и `pistons`"
   ]
  },
  {
   "cell_type": "code",
   "execution_count": 26,
   "metadata": {
    "ExecuteTime": {
     "end_time": "2023-10-29T05:48:28.769703800Z",
     "start_time": "2023-10-29T05:48:28.733599900Z"
    }
   },
   "outputs": [
    {
     "name": "stdout",
     "output_type": "stream",
     "text": [
      "2.5 4\n"
     ]
    }
   ],
   "source": [
    "\"\"\"\n",
    "create dataclass `Engine`\n",
    "\"\"\"\n",
    "from dataclasses import dataclass\n",
    "@dataclass\n",
    "class Engine:\n",
    "   volume: float\n",
    "   pistons: int\n",
    "v4_STI = Engine(2.5, 4)\n",
    "print(v4_STI.volume, v4_STI.pistons)"
   ]
  },
  {
   "cell_type": "markdown",
   "metadata": {},
   "source": [
    "## 4) Car \n",
    "\n",
    "<img src=\"https://lh3.googleusercontent.com/proxy/RJqzSJqZFQrx7xOXimZQ4ooInGE6ViJdwz7JZZ_b__Eun-stRH2NMw47fM4je2hL1afRtmpKS9kZUVY0p2YcaZVtJ7bKRw3wWHRRa6zVUbeIb5TYLNkwx5A\" width=250>\n",
    "\n",
    "Cоздайте класс `Car`\n",
    "    - класс `Car` должен быть наследником `Vehicle`\n",
    "    - добавьте атрибут `engine` классу `Car`\n",
    "    - объявите метод `set_engine`, который принимает в себя экземпляр объекта `Engine` и устанавливает на текущий экземпляр `Car`"
   ]
  },
  {
   "cell_type": "code",
   "execution_count": 27,
   "metadata": {
    "ExecuteTime": {
     "end_time": "2023-10-29T05:48:32.642849500Z",
     "start_time": "2023-10-29T05:48:32.603797400Z"
    }
   },
   "outputs": [
    {
     "name": "stdout",
     "output_type": "stream",
     "text": [
      "Engine(volume=2.5, pistons=4)\n"
     ]
    }
   ],
   "source": [
    "\"\"\"\n",
    "создайте класс `Car`, наследник `Vehicle`\n",
    "\"\"\"\n",
    "class Car(Vehicle):\n",
    "   engine = None\n",
    "\n",
    "   def set_engine(self, engine):\n",
    "      self.engine = engine\n",
    "\n",
    "impreza = Car()\n",
    "impreza.set_engine(v4_STI)\n",
    "print(impreza.engine)"
   ]
  },
  {
   "cell_type": "markdown",
   "metadata": {},
   "source": [
    "## 5) Plane\n",
    "\n",
    "<img src=\"http://www.weirduniverse.net/images/2017/1934parachute02.jpg\" width=250>\n",
    "\n",
    "Создайте класс `Plane`\n",
    "- класс `Plane` должен быть наследником `Vehicle`\n",
    "- добавьте атрибуты `cargo` и `max_cargo` классу `Plane`\n",
    "- добавьте `max_cargo` в инициализатор (переопределите родительский)\n",
    "- объявите метод `load_cargo`, который принимает число, проверяет, что в сумме с текущим `cargo` не будет перегруза, и обновляет значение, в ином случае выкидывает исключение `exceptions.CargoOverload`\n",
    "- объявите метод `remove_all_cargo`, который обнуляет значение `cargo` и возвращает значение `cargo`, которое было до обнуления"
   ]
  },
  {
   "cell_type": "code",
   "execution_count": 59,
   "metadata": {
    "ExecuteTime": {
     "end_time": "2023-10-29T06:25:17.647304500Z",
     "start_time": "2023-10-29T06:25:17.592650400Z"
    }
   },
   "outputs": [
    {
     "ename": "CargoOverload",
     "evalue": "Будет перегруз!",
     "output_type": "error",
     "traceback": [
      "\u001B[1;31m---------------------------------------------------------------------------\u001B[0m",
      "\u001B[1;31mCargoOverload\u001B[0m                             Traceback (most recent call last)",
      "Cell \u001B[1;32mIn[59], line 27\u001B[0m\n\u001B[0;32m     23\u001B[0m \u001B[38;5;66;03m# print(tu.cargo)\u001B[39;00m\n\u001B[0;32m     24\u001B[0m \u001B[38;5;66;03m# print(tu.max_cargo)\u001B[39;00m\n\u001B[0;32m     25\u001B[0m \u001B[38;5;66;03m#\u001B[39;00m\n\u001B[0;32m     26\u001B[0m tu\u001B[38;5;241m.\u001B[39mload_cargo(\u001B[38;5;241m500\u001B[39m)\n\u001B[1;32m---> 27\u001B[0m \u001B[43mtu\u001B[49m\u001B[38;5;241;43m.\u001B[39;49m\u001B[43mload_cargo\u001B[49m\u001B[43m(\u001B[49m\u001B[38;5;241;43m4500\u001B[39;49m\u001B[43m)\u001B[49m\n\u001B[0;32m     28\u001B[0m \u001B[38;5;66;03m# print(tu.cargo)\u001B[39;00m\n\u001B[0;32m     29\u001B[0m \u001B[38;5;66;03m# print(tu.max_cargo)\u001B[39;00m\n\u001B[0;32m     31\u001B[0m tu\u001B[38;5;241m.\u001B[39mremove_all_cargo()\n",
      "Cell \u001B[1;32mIn[59], line 12\u001B[0m, in \u001B[0;36mPlane.load_cargo\u001B[1;34m(self, add_cargo)\u001B[0m\n\u001B[0;32m     10\u001B[0m    \u001B[38;5;28mself\u001B[39m\u001B[38;5;241m.\u001B[39mcargo \u001B[38;5;241m+\u001B[39m\u001B[38;5;241m=\u001B[39m add_cargo\n\u001B[0;32m     11\u001B[0m \u001B[38;5;28;01melse\u001B[39;00m:\n\u001B[1;32m---> 12\u001B[0m    \u001B[38;5;28;01mraise\u001B[39;00m exceptions\u001B[38;5;241m.\u001B[39mCargoOverload(\u001B[38;5;124m'\u001B[39m\u001B[38;5;124mБудет перегруз!\u001B[39m\u001B[38;5;124m'\u001B[39m)\n",
      "\u001B[1;31mCargoOverload\u001B[0m: Будет перегруз!"
     ]
    }
   ],
   "source": [
    "\"\"\"\n",
    "создайте класс `Plane`, наследник `Vehicle`\n",
    "\"\"\"\n",
    "class Plane(Vehicle):\n",
    "   cargo = 0\n",
    "   max_cargo = 0\n",
    "\n",
    "   def load_cargo(self, add_cargo):\n",
    "      if add_cargo + self.cargo < self.max_cargo:\n",
    "         self.cargo += add_cargo\n",
    "      else:\n",
    "         raise exceptions.CargoOverload('Будет перегруз!')\n",
    "\n",
    "   def remove_all_cargo(self):\n",
    "      old_cargo  = self.cargo\n",
    "      self.cargo = 0\n",
    "      # print(old_cargo)\n",
    "      return old_cargo\n",
    "\n",
    "# tu = Plane()\n",
    "# tu.max_cargo = 1000\n",
    "\n",
    "# print(tu.cargo)\n",
    "# print(tu.max_cargo)\n",
    "#\n",
    "# tu.load_cargo(500)\n",
    "# tu.load_cargo(400)\n",
    "# print(tu.cargo)\n",
    "# print(tu.max_cargo)\n",
    "\n",
    "# tu.remove_all_cargo()\n",
    "# print(tu.cargo)\n",
    "# print(tu.max_cargo)\n",
    "\n",
    "\n",
    "\n"
   ]
  },
  {
   "cell_type": "code",
   "execution_count": null,
   "outputs": [],
   "source": [],
   "metadata": {
    "collapsed": false
   }
  }
 ],
 "metadata": {
  "kernelspec": {
   "display_name": "Python 3",
   "language": "python",
   "name": "python3"
  },
  "language_info": {
   "codemirror_mode": {
    "name": "ipython",
    "version": 3
   },
   "file_extension": ".py",
   "mimetype": "text/x-python",
   "name": "python",
   "nbconvert_exporter": "python",
   "pygments_lexer": "ipython3",
   "version": "3.7.3"
  },
  "varInspector": {
   "cols": {
    "lenName": 16,
    "lenType": 16,
    "lenVar": 40
   },
   "kernels_config": {
    "python": {
     "delete_cmd_postfix": "",
     "delete_cmd_prefix": "del ",
     "library": "var_list.py",
     "varRefreshCmd": "print(var_dic_list())"
    },
    "r": {
     "delete_cmd_postfix": ") ",
     "delete_cmd_prefix": "rm(",
     "library": "var_list.r",
     "varRefreshCmd": "cat(var_dic_list()) "
    }
   },
   "types_to_exclude": [
    "module",
    "function",
    "builtin_function_or_method",
    "instance",
    "_Feature"
   ],
   "window_display": false
  }
 },
 "nbformat": 4,
 "nbformat_minor": 2
}
